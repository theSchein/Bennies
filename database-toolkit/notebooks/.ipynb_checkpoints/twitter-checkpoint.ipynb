{
 "cells": [
  {
   "cell_type": "markdown",
   "id": "a89ed99e-e6ea-4b48-98ae-a716f96cfb11",
   "metadata": {},
   "source": [
    "# Twitter API playground"
   ]
  },
  {
   "cell_type": "code",
   "execution_count": null,
   "id": "bd721ac3-5d05-451c-9e9d-0909eff407bf",
   "metadata": {},
   "outputs": [],
   "source": [
    "import pandas as pd\n",
    "from ntscraper import Nitter\n",
    "\n",
    "scraper = Nitter()"
   ]
  },
  {
   "cell_type": "code",
   "execution_count": null,
   "id": "fc337db9-cf1b-4a63-9e33-59acd4139ec4",
   "metadata": {},
   "outputs": [],
   "source": [
    "## steps\n",
    "\n",
    "1. scrape all acounts in a forloop from staging\n",
    "2. save those to csvs\n",
    "3. will still get rate limited\n"
   ]
  },
  {
   "cell_type": "code",
   "execution_count": null,
   "id": "308d4490-485a-41ea-b67d-62fb04749574",
   "metadata": {},
   "outputs": [],
   "source": []
  },
  {
   "cell_type": "code",
   "execution_count": null,
   "id": "55f7b213-f965-41ae-b328-1dc131f501ce",
   "metadata": {},
   "outputs": [],
   "source": [
    "def get_tweets(name, modes, no):\n",
    "    tweets = scraper.get_tweets(name, mode = modes, number=no)\n",
    "    final_tweets = []\n",
    "    for x in tweets['tweets']:\n",
    "        data = [x['link'], x['text'],x['date'],x['stats']['likes'],x['stats']['comments']]\n",
    "        final_tweets.append(data)\n",
    "    data = pd.DataFrame(final_tweets, columns =['twitter_link','text','date','likes','comments'])\n",
    "    return data\n",
    "\n",
    "data = get_tweets('Pizza_DAO','user',25)\n",
    "\n",
    "with open('pizza_dao_tweets.csv', 'w') as f:\n",
    "    data.to_csv(f, header=True, index=False, encoding='utf-8-sig')\n",
    "\n",
    "print(data)"
   ]
  }
 ],
 "metadata": {
  "kernelspec": {
   "display_name": "Python 3 (ipykernel)",
   "language": "python",
   "name": "python3"
  },
  "language_info": {
   "codemirror_mode": {
    "name": "ipython",
    "version": 3
   },
   "file_extension": ".py",
   "mimetype": "text/x-python",
   "name": "python",
   "nbconvert_exporter": "python",
   "pygments_lexer": "ipython3",
   "version": "3.10.12"
  }
 },
 "nbformat": 4,
 "nbformat_minor": 5
}
