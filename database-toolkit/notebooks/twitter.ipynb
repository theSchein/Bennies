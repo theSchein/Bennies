{
 "cells": [
  {
   "cell_type": "markdown",
   "id": "a89ed99e-e6ea-4b48-98ae-a716f96cfb11",
   "metadata": {},
   "source": [
    "# Twitter API playground"
   ]
  },
  {
   "cell_type": "code",
   "execution_count": 3,
   "id": "bd721ac3-5d05-451c-9e9d-0909eff407bf",
   "metadata": {},
   "outputs": [
    {
     "name": "stderr",
     "output_type": "stream",
     "text": [
      "Testing instances: 100%|████████████████████████████████████████████████████████████████████████████████████████████████████████████████████████████████████████████████████| 77/77 [01:16<00:00,  1.00it/s]\n"
     ]
    }
   ],
   "source": [
    "import pandas as pd\n",
    "from ntscraper import Nitter\n",
    "\n",
    "scraper = Nitter()"
   ]
  },
  {
   "cell_type": "markdown",
   "id": "db1365f2-dbea-4a9a-9e32-88c4a337e88c",
   "metadata": {},
   "source": [
    "## steps\n",
    "\n",
    "1. scrape all acounts in a forloop from staging\n",
    "2. save those to csvs\n",
    "3. will still get rate limited\n"
   ]
  },
  {
   "cell_type": "code",
   "execution_count": null,
   "id": "308d4490-485a-41ea-b67d-62fb04749574",
   "metadata": {},
   "outputs": [],
   "source": []
  },
  {
   "cell_type": "code",
   "execution_count": 4,
   "id": "55f7b213-f965-41ae-b328-1dc131f501ce",
   "metadata": {},
   "outputs": [
    {
     "name": "stdout",
     "output_type": "stream",
     "text": [
      "03-May-24 21:26:17 - No instance specified, using random instance https://nitter.esmailelbob.xyz\n",
      "03-May-24 21:26:23 - Current stats for BoredApeYC: 21 tweets, 0 threads...\n",
      "03-May-24 21:26:27 - Current stats for BoredApeYC: 25 tweets, 0 threads...\n"
     ]
    },
    {
     "name": "stderr",
     "output_type": "stream",
     "text": [
      "Testing instances: 100%|████████████████████████████████████████████████████████████████████████████████████████████████████████████████████████████████████████████████████| 77/77 [01:04<00:00,  1.20it/s]"
     ]
    },
    {
     "name": "stdout",
     "output_type": "stream",
     "text": [
      "                                         twitter_link  \\\n",
      "0   https://twitter.com/BoredApeYC/status/17828019...   \n",
      "1   https://twitter.com/mfigge/status/178616800848...   \n",
      "2   https://twitter.com/BoredRunClub/status/178647...   \n",
      "3   https://twitter.com/bailey_tattoo/status/17864...   \n",
      "4   https://twitter.com/AviAisenberg/status/178647...   \n",
      "5   https://twitter.com/dragonseller88/status/1786...   \n",
      "6   https://twitter.com/mmwalk/status/178639557885...   \n",
      "7   https://twitter.com/RJFWhite/status/1786164924...   \n",
      "8   https://twitter.com/OthersideMeta/status/17861...   \n",
      "9   https://twitter.com/OthersideMeta/status/17861...   \n",
      "10  https://twitter.com/Zech3D/status/178613584468...   \n",
      "11  https://twitter.com/BoredApeYC/status/17861394...   \n",
      "12  https://twitter.com/BoredApeYC/status/17861394...   \n",
      "13  https://twitter.com/Qardano/status/17859050296...   \n",
      "14  https://twitter.com/RidazLp2/status/1786083055...   \n",
      "15  https://twitter.com/BorednHungry_kr/status/178...   \n",
      "16  https://twitter.com/Pequelord/status/178584850...   \n",
      "17  https://twitter.com/subvert_nft/status/1785668...   \n",
      "18  https://twitter.com/aeaea81/status/17857536976...   \n",
      "19  https://twitter.com/WelcomeApes/status/1785776...   \n",
      "20  https://twitter.com/BoredBrewingCo/status/1785...   \n",
      "21  https://twitter.com/BoredApeYC/status/17857475...   \n",
      "22  https://twitter.com/BoredApeYC/status/17857475...   \n",
      "23  https://twitter.com/BoredApeYC/status/17857475...   \n",
      "24  https://twitter.com/fattyloNFT/status/17854034...   \n",
      "\n",
      "                                                 text  \\\n",
      "0   Happy 3rd birthday, Apes. Let’s go big again f...   \n",
      "1                                                       \n",
      "2   Get ready for an exciting Spring Run! @BoredAp...   \n",
      "3   Day 854 🖤  #dailybaileyblenderrender   Just so...   \n",
      "4   Pumped to rep my Ape while pouring rum samples...   \n",
      "5          Gm. Finally Friday. Enjoy the wknd apes 🦍🫰   \n",
      "6   Just at the club with my homies.   Where’s my ...   \n",
      "7                    Lets goooo - had to be this guy!   \n",
      "8   Voyagers,  The Otherside Town Hall is live!  T...   \n",
      "9   Voyagers,  The Otherside Town Hall will begin ...   \n",
      "10  Thank you for coming over to my Treehouse! 🌳  ...   \n",
      "11                                                      \n",
      "12  Some Apes take being thankful to a new level. ...   \n",
      "13  Gm 🌞  See you today on #Otherside for the Town...   \n",
      "14  Did some still renders of @BalouBAYC Zombie Fu...   \n",
      "15  BAYC saves the world! Bored & Hungry was invit...   \n",
      "16  3 years ago I had the chance to join the @Bore...   \n",
      "17  🎥 Hong Kong After Dark 🎥  Six months ago, I ho...   \n",
      "18                       gm. Firing up the engines 👀🎵   \n",
      "19          https://nitter.net/i/spaces/1OdJrjRYWpkJX   \n",
      "20  Calling all APES and web3 enjoyoors!! We are h...   \n",
      "21                                                      \n",
      "22                                                      \n",
      "23  This week’s “From The Bodega” features @Crypto...   \n",
      "24  I salute you @BoredApeYC #bayc fam.   Huge sho...   \n",
      "\n",
      "                          date  likes  comments  \n",
      "0   Apr 23, 2024 · 4:01 PM UTC   2617       482  \n",
      "1   May 2, 2024 · 10:56 PM UTC    695       137  \n",
      "2    May 3, 2024 · 7:23 PM UTC     70         6  \n",
      "3    May 3, 2024 · 4:17 PM UTC    115        12  \n",
      "4    May 3, 2024 · 6:56 PM UTC    111        14  \n",
      "5    May 3, 2024 · 1:43 PM UTC    161        55  \n",
      "6    May 3, 2024 · 2:01 PM UTC    166        13  \n",
      "7   May 2, 2024 · 10:44 PM UTC    876       210  \n",
      "8   May 2, 2024 · 10:00 PM UTC    371        51  \n",
      "9    May 2, 2024 · 9:00 PM UTC    255        33  \n",
      "10   May 2, 2024 · 8:49 PM UTC    242        40  \n",
      "11   May 2, 2024 · 9:03 PM UTC      7         2  \n",
      "12   May 2, 2024 · 9:03 PM UTC    177        19  \n",
      "13   May 2, 2024 · 5:31 AM UTC    286       101  \n",
      "14   May 2, 2024 · 5:19 PM UTC    290        29  \n",
      "15   May 2, 2024 · 6:56 AM UTC     47         1  \n",
      "16   May 2, 2024 · 1:47 AM UTC    114         8  \n",
      "17   May 1, 2024 · 1:50 PM UTC    206        30  \n",
      "18   May 1, 2024 · 7:30 PM UTC    233        46  \n",
      "19   May 1, 2024 · 9:00 PM UTC     85        32  \n",
      "20   May 1, 2024 · 7:36 PM UTC    165        33  \n",
      "21   May 1, 2024 · 7:06 PM UTC     41         3  \n",
      "22   May 1, 2024 · 7:06 PM UTC     56         3  \n",
      "23   May 1, 2024 · 7:06 PM UTC    295        34  \n",
      "24  Apr 30, 2024 · 8:18 PM UTC    152        26  \n"
     ]
    },
    {
     "name": "stderr",
     "output_type": "stream",
     "text": [
      "\n"
     ]
    }
   ],
   "source": [
    "def get_tweets(name, modes, no):\n",
    "    tweets = scraper.get_tweets(name, mode = modes, number=no)\n",
    "    final_tweets = []\n",
    "    for x in tweets['tweets']:\n",
    "        data = [x['link'], x['text'],x['date'],x['stats']['likes'],x['stats']['comments']]\n",
    "        final_tweets.append(data)\n",
    "    data = pd.DataFrame(final_tweets, columns =['twitter_link','text','date','likes','comments'])\n",
    "    return data\n",
    "\n",
    "data = get_tweets('BoredApeYC','user',25)\n",
    "\n",
    "with open('bayc_tweets.csv', 'w') as f:\n",
    "    data.to_csv(f, header=True, index=False, encoding='utf-8-sig')\n",
    "import pandas as pd\n",
    "from ntscraper import Nitter\n",
    "\n",
    "scraper = Nitter()\n",
    "print(data)"
   ]
  },
  {
   "cell_type": "code",
   "execution_count": null,
   "id": "841f3443-b88d-4aec-9f03-0967f9d69526",
   "metadata": {},
   "outputs": [],
   "source": []
  }
 ],
 "metadata": {
  "kernelspec": {
   "display_name": "Python 3 (ipykernel)",
   "language": "python",
   "name": "python3"
  },
  "language_info": {
   "codemirror_mode": {
    "name": "ipython",
    "version": 3
   },
   "file_extension": ".py",
   "mimetype": "text/x-python",
   "name": "python",
   "nbconvert_exporter": "python",
   "pygments_lexer": "ipython3",
   "version": "3.10.12"
  }
 },
 "nbformat": 4,
 "nbformat_minor": 5
}
